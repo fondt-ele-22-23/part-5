{
 "cells": [
  {
   "cell_type": "markdown",
   "metadata": {
    "slideshow": {
     "slide_type": "subslide"
    }
   },
   "source": [
    "## Esercizio: Confronto di Darte\n",
    "\n",
    "**Si definisca una funzione:**\n",
    "\n",
    "```python\n",
    "def confronta_date(d1, d2)\n",
    "```\n",
    "\n",
    "Che confronti due date\n",
    "\n",
    "* La date sono rappresentate come tuple con il formato $(\\mathit{anno}, \\mathit{mese}, \\mathit{giorno})$\n",
    "* La funzione deve restituire $< 0$ se `d1` è prima di `d2`\n",
    "* La funzione deve restituire $> 0$ se `d1` è dopo di `d2`\n",
    "* La funzione deve restituire $0$ se `d1` è uguale a `d2`\n",
    "\n",
    "Qualche indicazione:\n",
    "\n",
    "* Il codice deve essere contenuto in un'unica cella\n",
    "* Si effetuino esperimenti con diverse date"
   ]
  },
  {
   "cell_type": "code",
   "execution_count": null,
   "metadata": {},
   "outputs": [],
   "source": []
  }
 ],
 "metadata": {
  "celltoolbar": "Slideshow",
  "kernelspec": {
   "display_name": "Python 3 (ipykernel)",
   "language": "python",
   "name": "python3"
  },
  "language_info": {
   "codemirror_mode": {
    "name": "ipython",
    "version": 3
   },
   "file_extension": ".py",
   "mimetype": "text/x-python",
   "name": "python",
   "nbconvert_exporter": "python",
   "pygments_lexer": "ipython3",
   "version": "3.10.8"
  },
  "rise": {
   "center": false,
   "enable_chalkboard": true,
   "transition": "fade"
  }
 },
 "nbformat": 4,
 "nbformat_minor": 4
}
