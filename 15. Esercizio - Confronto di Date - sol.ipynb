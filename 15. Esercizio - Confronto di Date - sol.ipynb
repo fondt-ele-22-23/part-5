{
 "cells": [
  {
   "cell_type": "markdown",
   "metadata": {
    "slideshow": {
     "slide_type": "subslide"
    }
   },
   "source": [
    "## Esercizio: Confronto di Darte\n",
    "\n",
    "**Si definisca una funzione:**\n",
    "\n",
    "```python\n",
    "def confronta_date(d1, d2)\n",
    "```\n",
    "\n",
    "Che confronti due date\n",
    "\n",
    "* La date sono rappresentate come tuple con il formato $(\\mathit{anno}, \\mathit{mese}, \\mathit{giorno})$\n",
    "* La funzione deve restituire $< 0$ se `d1` è prima di `d2`\n",
    "* La funzione deve restituire $> 0$ se `d1` è dopo di `d2`\n",
    "* La funzione deve restituire $0$ se `d1` è uguale a `d2`\n",
    "\n",
    "Qualche indicazione:\n",
    "\n",
    "* Il codice deve essere contenuto in un'unica cella\n",
    "* Si effetuino esperimenti con diverse date"
   ]
  },
  {
   "cell_type": "markdown",
   "metadata": {
    "slideshow": {
     "slide_type": "subslide"
    }
   },
   "source": [
    "## Esercizio: Confronto di Date\n",
    "\n",
    "**Di seguito una possibile soluzione**"
   ]
  },
  {
   "cell_type": "code",
   "execution_count": 7,
   "metadata": {},
   "outputs": [
    {
     "name": "stdout",
     "output_type": "stream",
     "text": [
      "(2022, 3, 24) è dopo (2022, 3, 18)\n",
      "(2022, 3, 24) è dopo (2022, 2, 28)\n",
      "(2022, 3, 18) è dopo (2022, 2, 28)\n",
      "(2022, 3, 18) è prima di (2022, 3, 24)\n",
      "(2022, 3, 18) è uguale a (2022, 3, 18)\n"
     ]
    }
   ],
   "source": [
    "def confronta_date(d1, d2):\n",
    "    res = d1[0] - d2[0] # Differenza di anni\n",
    "    if res == 0: # I due anni sono identici\n",
    "        res = d1[1] - d2[1] # Differenza di mesi\n",
    "        if res == 0: # I due mesi sono identici\n",
    "            res = d1[2] - d2[2] # Differenza di giorni\n",
    "    return res\n",
    "\n",
    "def str_confronto(d1, d2):\n",
    "    c = confronta_date(d1, d2)\n",
    "    if c < 0:\n",
    "        return f'{d1} è prima di {d2}'\n",
    "    elif c > 0:\n",
    "        return f'{d1} è dopo {d2}'\n",
    "    else:\n",
    "        return f'{d1} è uguale a {d2}'\n",
    "\n",
    "d1 = (2022, 3, 24)\n",
    "d2 = (2022, 3, 18)\n",
    "d3 = (2022, 2, 28)\n",
    "\n",
    "print(str_confronto(d1, d2))\n",
    "print(str_confronto(d1, d3))\n",
    "print(str_confronto(d2, d3))\n",
    "print(str_confronto(d2, d1))\n",
    "print(str_confronto(d2, d2))"
   ]
  }
 ],
 "metadata": {
  "celltoolbar": "Slideshow",
  "kernelspec": {
   "display_name": "Python 3 (ipykernel)",
   "language": "python",
   "name": "python3"
  },
  "language_info": {
   "codemirror_mode": {
    "name": "ipython",
    "version": 3
   },
   "file_extension": ".py",
   "mimetype": "text/x-python",
   "name": "python",
   "nbconvert_exporter": "python",
   "pygments_lexer": "ipython3",
   "version": "3.9.5"
  },
  "rise": {
   "center": false,
   "enable_chalkboard": true,
   "transition": "fade"
  }
 },
 "nbformat": 4,
 "nbformat_minor": 4
}
