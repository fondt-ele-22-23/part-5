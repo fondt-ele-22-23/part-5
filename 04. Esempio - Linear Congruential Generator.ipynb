{
 "cells": [
  {
   "cell_type": "markdown",
   "metadata": {
    "slideshow": {
     "slide_type": "subslide"
    }
   },
   "source": [
    "## Esempio: Linear Congruential Generator\n",
    "\n",
    "**Si definisca una funzione:**\n",
    "\n",
    "```python\n",
    "def lcg(n, seed, a, c, m)\n",
    "```\n",
    "\n",
    "Che restituisca $n$ elementi generati secondo la seguente ricorsione:\n",
    "\n",
    "$$\n",
    "x_{n+1} = (a x_n + c) \\mod m\n",
    "$$\n",
    "\n",
    "Con $x_0 = $ `seed`\n",
    "\n",
    "* Si utilizzino i valori $m = 16, a = 9, c = 3$\n",
    "* Come $\\mathit{seed}$, si utilizzi 0\n",
    "* Si provino a generare sequenze di lunghezza crescente ($n = 4, 8, 12, ..., 24$)\n",
    "  - Allo scopo, si utilizzi un ciclo"
   ]
  },
  {
   "cell_type": "markdown",
   "metadata": {
    "slideshow": {
     "slide_type": "subslide"
    }
   },
   "source": [
    "## Esempio: Linear Congruential Generator\n",
    "\n",
    "**Di seguito una possibile soluzione**"
   ]
  },
  {
   "cell_type": "code",
   "execution_count": 2,
   "metadata": {},
   "outputs": [
    {
     "name": "stdout",
     "output_type": "stream",
     "text": [
      "[3, 14, 1, 12]\n",
      "[3, 14, 1, 12, 15, 10, 13, 8]\n",
      "[3, 14, 1, 12, 15, 10, 13, 8, 11, 6, 9, 4]\n",
      "[3, 14, 1, 12, 15, 10, 13, 8, 11, 6, 9, 4, 7, 2, 5, 0]\n",
      "[3, 14, 1, 12, 15, 10, 13, 8, 11, 6, 9, 4, 7, 2, 5, 0, 3, 14, 1, 12]\n",
      "[3, 14, 1, 12, 15, 10, 13, 8, 11, 6, 9, 4, 7, 2, 5, 0, 3, 14, 1, 12, 15, 10, 13, 8]\n"
     ]
    }
   ],
   "source": [
    "def lcg(n, seed, a, c, m):\n",
    "    res = []\n",
    "    x = seed # Elemento iniziale (da non restituire)\n",
    "    for i in range(n):\n",
    "        x = (a * x + c) % m # Ottengo il prossimo elemento\n",
    "        res += [x] # Estendo la lista\n",
    "    return res\n",
    "\n",
    "for n in range(4, 25, 4):\n",
    "    print(lcg(n, seed=0, a=9, c=3, m=16))"
   ]
  },
  {
   "cell_type": "markdown",
   "metadata": {
    "slideshow": {
     "slide_type": "subslide"
    }
   },
   "source": [
    "## Esempio: Linear Congruential Generator\n",
    "\n",
    "**La ricorsione appena vista si chiama _Linear Congruential Generator_**\n",
    "\n",
    "...Ed ha alcune caratteristiche interessante:\n",
    "\n",
    "* I numeri generati sono in un intervallo noto (da $0$ a $m$)\n",
    "* I numeri generati sono distribuiti _uniformemente_ nell'intervallo\n",
    "* Se non si conosce la regola, è difficile prevedere il numero successivo\n",
    "\n",
    "Per questa ragione, possono esse trattati quasi come _numeri casuali_\n",
    "\n",
    "**Si parla per la precisione di _numeri pseudo casuali_**\n",
    "\n",
    "I.e. sembrano casuali, ma seguono una legge deterministica\n",
    "\n",
    "* Intuitivamente, per un eleboratore elettronico è difficile comportarsi a caso\n",
    "* ...Ma generara numeri casuali può essere molto utile (e.g. per fare simulazioni)!\n",
    "\n",
    "I numeri pseudo-casuali permettono di aggirare in parte questa difficoltà"
   ]
  },
  {
   "cell_type": "markdown",
   "metadata": {
    "slideshow": {
     "slide_type": "subslide"
    }
   },
   "source": [
    "## Esempio: Linear Congruential Generator\n",
    "\n",
    "**In pratical la nostra funzione è un _Random Number Generator_**\n",
    "\n",
    "Proviamo ad usarla per simulare un tiro di dado:"
   ]
  },
  {
   "cell_type": "code",
   "execution_count": 3,
   "metadata": {},
   "outputs": [
    {
     "name": "stdout",
     "output_type": "stream",
     "text": [
      "Tiro un dado a 6 facce! È uscito un 2\n",
      "Tiro un dado a 6 facce! È uscito un 5\n",
      "Tiro un dado a 6 facce! È uscito un 2\n",
      "Tiro un dado a 6 facce! È uscito un 1\n",
      "Tiro un dado a 6 facce! È uscito un 0\n"
     ]
    }
   ],
   "source": [
    "def dado(n, facce, seed=0):\n",
    "    m, a, c = 2**16+1, 75, 74 # usiamo dei parametri un po' più seri\n",
    "    res = lcg(seed=seed, n=n, m=m, a=a, c=c) # risultati \"grezzi\"\n",
    "    return [v % facce for v in res]\n",
    "    \n",
    "facce = 6\n",
    "risultati = dado(n=5, facce=facce, seed=42)\n",
    "for v in risultati:\n",
    "    print(f'Tiro un dado a {facce} facce! È uscito un {v}')"
   ]
  }
 ],
 "metadata": {
  "celltoolbar": "Slideshow",
  "kernelspec": {
   "display_name": "Python 3 (ipykernel)",
   "language": "python",
   "name": "python3"
  },
  "language_info": {
   "codemirror_mode": {
    "name": "ipython",
    "version": 3
   },
   "file_extension": ".py",
   "mimetype": "text/x-python",
   "name": "python",
   "nbconvert_exporter": "python",
   "pygments_lexer": "ipython3",
   "version": "3.10.8"
  },
  "rise": {
   "center": false,
   "enable_chalkboard": true,
   "transition": "fade"
  }
 },
 "nbformat": 4,
 "nbformat_minor": 4
}
